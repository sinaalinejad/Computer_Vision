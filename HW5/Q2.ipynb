{
 "cells": [
  {
   "cell_type": "code",
   "execution_count": 145,
   "id": "599a113d",
   "metadata": {},
   "outputs": [],
   "source": [
    "import cv2\n",
    "import numpy as np\n",
    "import matplotlib.pyplot as plt\n",
    "import math"
   ]
  },
  {
   "cell_type": "code",
   "execution_count": 146,
   "id": "766f9df2",
   "metadata": {},
   "outputs": [
    {
     "data": {
      "image/png": "[encoded data removed]",
      "text/plain": [
       "<Figure size 432x288 with 1 Axes>"
      ]
     },
     "metadata": {
      "needs_background": "light"
     },
     "output_type": "display_data"
    }
   ],
   "source": [
    "# Do not change this cell\n",
    "I = cv2.imread('shapes.jpg')    # Reading image\n",
    "img = cv2.cvtColor(I,cv2.COLOR_BGR2GRAY)    # Converting image to grayscale\n",
    "_,img = cv2.threshold(img,127,255,cv2.THRESH_BINARY)    # Spiliting values between 0 and 1\n",
    "plt.imshow(img,cmap='gray')    # Displaying image\n",
    "plt.show()"
   ]
  },
  {
   "cell_type": "code",
   "execution_count": 147,
   "id": "ee6448c7",
   "metadata": {},
   "outputs": [],
   "source": [
    "def solidity(contour):\n",
    "    '''\n",
    "    You should implement one of the descriptors in this method (compactness, ...)\n",
    "    You can change name of this method.\n",
    "    You can copy this cell and implement another descriptor in next cell.\n",
    "    You can create as many descriptor as you want.\n",
    "    For more information, refer to https://docs.opencv.org/4.x/d1/d32/tutorial_py_contour_properties.html\n",
    "    input(s):\n",
    "    contour (ndarray): contour of the shape\n",
    "    output(s):\n",
    "    output (float): computed feature value by applying the descriptor on the contour\n",
    "    '''\n",
    "    hull = cv2.convexHull(contour, False)\n",
    "    area = cv2.contourArea(contour)\n",
    "    convex_area = cv2.contourArea(hull)\n",
    "    output = area / convex_area\n",
    "    return output"
   ]
  },
  {
   "cell_type": "code",
   "execution_count": 148,
   "id": "76a9c147",
   "metadata": {},
   "outputs": [],
   "source": [
    "def compactness(contour):\n",
    "    '''\n",
    "    You should implement one of the descriptors in this method (compactness, ...)\n",
    "    You can change name of this method.\n",
    "    You can copy this cell and implement another descriptor in next cell.\n",
    "    You can create as many descriptor as you want.\n",
    "    For more information, refer to https://docs.opencv.org/4.x/d1/d32/tutorial_py_contour_properties.html\n",
    "    input(s):\n",
    "    contour (ndarray): contour of the shape\n",
    "    output(s):\n",
    "    output (float): computed feature value by applying the descriptor on the contour\n",
    "    '''\n",
    "    area = cv2.contourArea(contour)\n",
    "    perimeter = cv2.arcLength(contour, True)\n",
    "    output = (4 * math.pi * area) / (perimeter**2)\n",
    "    return output"
   ]
  },
  {
   "cell_type": "code",
   "execution_count": 149,
   "id": "f47996cb",
   "metadata": {},
   "outputs": [],
   "source": [
    "def eccentricity(contour):\n",
    "    '''\n",
    "    You should implement one of the descriptors in this method (compactness, ...)\n",
    "    You can change name of this method.\n",
    "    You can copy this cell and implement another descriptor in next cell.\n",
    "    You can create as many descriptor as you want.\n",
    "    For more information, refer to https://docs.opencv.org/4.x/d1/d32/tutorial_py_contour_properties.html\n",
    "    input(s):\n",
    "    contour (ndarray): contour of the shape\n",
    "    output(s):\n",
    "    output (float): computed feature value by applying the descriptor on the contour\n",
    "    '''\n",
    "    ellipse = cv2.fitEllipse(contour)    \n",
    "    major_axis_length = max(ellipse[1])\n",
    "    minor_axis_length = min(ellipse[1])\n",
    "    output = minor_axis_length / major_axis_length\n",
    "    return output"
   ]
  },
  {
   "cell_type": "code",
   "execution_count": 150,
   "id": "190c1682",
   "metadata": {},
   "outputs": [],
   "source": [
    "def distance_criteria(x,y):\n",
    "    \"\"\"\n",
    "    You should implement your distance criteria here.\n",
    "    This method is used for comparing features of shapes.\n",
    "    input(s):\n",
    "    x (ndarray): feature vector of first shape with the shape of (n,). (n is number of features) \n",
    "    y (ndarray): feature vector of second shape with the shape of (n,). (n is number of features)\n",
    "    output(s):\n",
    "    output (float): Distance between features of two shapes\n",
    "    \"\"\"\n",
    "    from numpy import linalg as LA\n",
    "    output = abs(LA.norm(x) - LA.norm(y))\n",
    "    return output"
   ]
  },
  {
   "cell_type": "code",
   "execution_count": 151,
   "id": "7c6f1da0",
   "metadata": {},
   "outputs": [],
   "source": [
    "contours, _ = cv2.findContours(img,cv2.RETR_TREE,cv2.CHAIN_APPROX_NONE)    # calculating contours"
   ]
  },
  {
   "cell_type": "code",
   "execution_count": 152,
   "id": "efc52a01",
   "metadata": {},
   "outputs": [],
   "source": [
    "# In this cell, you should use contours that we calculated in the previous cell and \n",
    "# your defined descriptors to extract features for each shape.\n",
    "# These features should be a numpy array with the shape of (m,n), where m is the number of shapes and n is the number of features.\n",
    "descriptors = [solidity, compactness]\n",
    "features = np.zeros((len(contours), len(descriptors)))\n",
    "for idx, contour in enumerate(contours):\n",
    "    for des_idx, descriptor in enumerate(descriptors):\n",
    "        features[idx][des_idx] = descriptor(contour)\n"
   ]
  },
  {
   "cell_type": "code",
   "execution_count": 153,
   "id": "84b79e6c",
   "metadata": {},
   "outputs": [],
   "source": [
    "def grouping(features, threshold):\n",
    "    \"\"\"\n",
    "    split feature between multiple groups based on their distance from each other.\n",
    "    input(s):\n",
    "    features (ndarray): a numpy array with the shape of (m,n), where m is the number of shapes and n is the number of features\n",
    "    threshold (float): maximum distance between two feature vector which determine wether they should be in the same group or not.\n",
    "    output(s):\n",
    "    output (list): group of each shape. For example, [[1,2],[3,4,5]] means 1 and 2 are in the same group and 3 and 4 and 5 are in another group.\n",
    "    \"\"\"\n",
    "    groups = list()\n",
    "    groups.append([features[0],[0]])\n",
    "    for i, feature in enumerate(features[1:]):\n",
    "        new_group_flag = True\n",
    "        for group in groups:\n",
    "            if distance_criteria(group[0], feature) < threshold:\n",
    "                group[1].append(i+1) \n",
    "                new_group_flag = False\n",
    "                break\n",
    "        if new_group_flag:\n",
    "            groups.append([feature,[i+1]])\n",
    "    return [[idx for idx in group[1]] for group in groups]"
   ]
  },
  {
   "cell_type": "code",
   "execution_count": 154,
   "id": "3d516f40",
   "metadata": {},
   "outputs": [],
   "source": [
    "def painting(groups, contours, colors):\n",
    "    \"\"\"\n",
    "    paint shapes base on their groups.\n",
    "    input(s):\n",
    "    groups (list): group of each shape. The format is as same as the output of grouping method.\n",
    "    contour (ndarray): contour of the shape\n",
    "    colors (list): color of each group\n",
    "    \"\"\"\n",
    "    result = I.copy()\n",
    "    for group, color in zip(groups,colors):\n",
    "        for idx in group:\n",
    "            plt.imshow(cv2.drawContours(result,contours,idx,color,4))\n",
    "    plt.show()"
   ]
  },
  {
   "cell_type": "code",
   "execution_count": 155,
   "id": "710da472",
   "metadata": {},
   "outputs": [
    {
     "data": {
      "image/png": "[encoded data removed]",
      "text/plain": [
       "<Figure size 432x288 with 1 Axes>"
      ]
     },
     "metadata": {
      "needs_background": "light"
     },
     "output_type": "display_data"
    }
   ],
   "source": [
    "# You should replace your features array with None\n",
    "colors = [(255,0,0),(0,255,0),(0,0,255),(255,255,0),(255,0,255)]\n",
    "groups = grouping(features,0.042)\n",
    "painting(groups, contours, colors)"
   ]
  }
 ],
 "metadata": {
  "kernelspec": {
   "display_name": "Python 3 (ipykernel)",
   "language": "python",
   "name": "python3"
  },
  "language_info": {
   "codemirror_mode": {
    "name": "ipython",
    "version": 3
   },
   "file_extension": ".py",
   "mimetype": "text/x-python",
   "name": "python",
   "nbconvert_exporter": "python",
   "pygments_lexer": "ipython3",
   "version": "3.9.0"
  }
 },
 "nbformat": 4,
 "nbformat_minor": 5
}
