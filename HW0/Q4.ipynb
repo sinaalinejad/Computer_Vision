{
 "cells": [
  {
   "cell_type": "markdown",
   "metadata": {},
   "source": [
    "# Q4"
   ]
  },
  {
   "cell_type": "markdown",
   "metadata": {},
   "source": [
    "## Part A"
   ]
  },
  {
   "cell_type": "code",
   "execution_count": 1,
   "metadata": {},
   "outputs": [],
   "source": [
    "import numpy as np"
   ]
  },
  {
   "cell_type": "code",
   "execution_count": 11,
   "metadata": {},
   "outputs": [
    {
     "name": "stdout",
     "output_type": "stream",
     "text": [
      "[[0.796875 1.796875 2.796875]\n",
      " [4.       5.       6.      ]\n",
      " [7.203125 8.203125 9.203125]]\n"
     ]
    }
   ],
   "source": [
    "\"\"\"\n",
    "Please define the mentioned matrices and the operations\n",
    "\n",
    "consider the bellow links:\n",
    "https://numpy.org/doc/stable/reference/generated/numpy.transpose.html\n",
    "\n",
    "https://numpy.org/doc/stable/reference/generated/numpy.dot.html\n",
    "\n",
    "\"\"\"\n",
    "\n",
    "matrix1 = np.array([[1,2,3], [4,5,6], [7,8,9]])\n",
    "matrix2 = np.array([[1], [-1], [1]])\n",
    "m1_transpose = np.transpose(matrix1)\n",
    "multiplied = np.dot(m1_transpose, matrix1)\n",
    "inv_multiplied = np.linalg.inv(multiplied)\n",
    "middle = np.dot(np.dot(inv_multiplied, m1_transpose), matrix2)\n",
    "final = np.add(middle, matrix1)\n",
    "print(final)"
   ]
  },
  {
   "cell_type": "markdown",
   "metadata": {},
   "source": [
    "## Part B"
   ]
  },
  {
   "cell_type": "code",
   "execution_count": 13,
   "metadata": {},
   "outputs": [],
   "source": [
    "def window_sliding(A, B):\n",
    "\n",
    "  \"\"\"\n",
    "  In this function you should implement the sliding window method\n",
    "\n",
    "  Arguments:\n",
    "    inputs:\n",
    "      A: a matrix of 3*3 order for treating as the window\n",
    "      B: a matrix of 5*5 order for treating as the input matrix\n",
    "    outputs:\n",
    "      res: resulting matrix of the sliding window \n",
    "  \"\"\"\n",
    "\n",
    "  res = np.zeros([3,3], dtype=int)\n",
    "  for i in range(3):\n",
    "    for j in range(3):\n",
    "      res[i, j] = np.sum(np.multiply(A, B[i:i+3, j:j+3]))\n",
    "\n",
    "  return res"
   ]
  },
  {
   "cell_type": "code",
   "execution_count": 15,
   "metadata": {},
   "outputs": [
    {
     "name": "stdout",
     "output_type": "stream",
     "text": [
      "[[-7 -5 -7]\n",
      " [-5 -2 -5]\n",
      " [-7 -5 -7]]\n"
     ]
    }
   ],
   "source": [
    "B = np.array([\n",
    "  [1,1,1,1,1],[1,2,2,2,1],[1,2,2,2,1],[1,2,2,2,1],[1,1,1,1,1]\n",
    "])\n",
    "A = np.array([\n",
    "  [1,1,1], [1, -9, 1], [1,1,1]\n",
    "])\n",
    "print(window_sliding(A, B))"
   ]
  }
 ],
 "metadata": {
  "kernelspec": {
   "display_name": "Python 3",
   "language": "python",
   "name": "python3"
  },
  "language_info": {
   "codemirror_mode": {
    "name": "ipython",
    "version": 3
   },
   "file_extension": ".py",
   "mimetype": "text/x-python",
   "name": "python",
   "nbconvert_exporter": "python",
   "pygments_lexer": "ipython3",
   "version": "3.9.0"
  },
  "orig_nbformat": 4,
  "vscode": {
   "interpreter": {
    "hash": "889e13973aa3ea08d9e7192c935d5c05dfbb43e6aca6ce45ac0626bfbaaff0e3"
   }
  }
 },
 "nbformat": 4,
 "nbformat_minor": 2
}
