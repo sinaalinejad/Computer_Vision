{
  "cells": [
    {
      "attachments": {},
      "cell_type": "markdown",
      "metadata": {
        "id": "P9PoDHBl3QKv"
      },
      "source": [
        "# Q3\n",
        "*Work with Numpy*<br>\n",
        "In this notebook you're going to work with the numpy library to solve the problems<br>\n",
        "Please follow the instructions and hints provided for each cell"
      ]
    },
    {
      "attachments": {},
      "cell_type": "markdown",
      "metadata": {},
      "source": [
        "## Part A"
      ]
    },
    {
      "cell_type": "code",
      "execution_count": 1,
      "metadata": {
        "id": "1ZbZ5H1j5Zhw"
      },
      "outputs": [],
      "source": [
        "import numpy as np"
      ]
    },
    {
      "cell_type": "code",
      "execution_count": 6,
      "metadata": {
        "id": "5nvuXUyB2aLJ"
      },
      "outputs": [
        {
          "data": {
            "text/plain": [
              "array([[65, 50, 76, 35, 79],\n",
              "       [89, 64, 80, 50, 81],\n",
              "       [26, 17, 73, 42, 47],\n",
              "       [44, 28, 32, 87, 95],\n",
              "       [89, 83, 83, 39, 65]])"
            ]
          },
          "execution_count": 6,
          "metadata": {},
          "output_type": "execute_result"
        }
      ],
      "source": [
        "def create_matrix(n):\n",
        "  \"\"\"\n",
        "  In this function you should create matrix in order of n*n with random numbers \n",
        "  in the [n, n+100) interval.\n",
        "\n",
        "  see the bellow link:\n",
        "    https://numpy.org/doc/stable/reference/random/generated/numpy.random.randint.html\n",
        "\n",
        "  Arguments:\n",
        "    inputs:\n",
        "      n: an integer describing the order of the matrix\n",
        "    outputs:\n",
        "      created matrix  \n",
        "  \"\"\"\n",
        "  matrix = np.random.randint(n, n+100, size=(n,n))\n",
        "  return matrix"
      ]
    },
    {
      "cell_type": "code",
      "execution_count": 32,
      "metadata": {
        "id": "1PiKjLsl6KhD"
      },
      "outputs": [
        {
          "name": "stdout",
          "output_type": "stream",
          "text": [
            "[[ 82  75  93 103  38  96]\n",
            " [ 19  80  73  88  17  48]\n",
            " [ 87   6  76   6  96 100]\n",
            " [ 26  93  49  54  64  42]\n",
            " [ 10  73  70   8  69  18]\n",
            " [ 69  18 103  32  11   8]]\n"
          ]
        }
      ],
      "source": [
        "\"\"\"\n",
        "In this cell you should get the input n and create the matrix by calling the function\n",
        "Then print the matrix\n",
        "\"\"\"\n",
        "n = int(input())\n",
        "matrix = create_matrix(n)\n",
        "print(matrix)"
      ]
    },
    {
      "cell_type": "code",
      "execution_count": 8,
      "metadata": {
        "id": "Cnocq2_56mdx"
      },
      "outputs": [],
      "source": [
        "def count_digits(matrix):\n",
        "  \"\"\"\n",
        "  In this function you should implement a routine to count the digits in the given matrix.\n",
        "\n",
        "  Arguments:\n",
        "    inputs:\n",
        "      matrix: input matrix\n",
        "    outputs:\n",
        "      digits: a dictionary containing digits as its keys and the counted numbers as its value\n",
        "  \"\"\"\n",
        "  digits = {}\n",
        "  for row in matrix:\n",
        "    for num in row:\n",
        "      s = str(num)\n",
        "      for digit in s:\n",
        "        if digit not in digits:\n",
        "          digits[digit] = 1\n",
        "        else:\n",
        "          digits[digit] += 1\n",
        "\n",
        "  return digits\n"
      ]
    },
    {
      "cell_type": "code",
      "execution_count": 12,
      "metadata": {
        "id": "Aq3mHGcc7f2i"
      },
      "outputs": [
        {
          "name": "stdout",
          "output_type": "stream",
          "text": [
            "{'5': 10, '1': 6, '4': 8, '8': 5, '7': 4, '0': 4, '2': 3, '3': 5, '6': 1, '9': 5}\n"
          ]
        }
      ],
      "source": [
        "\"\"\"\n",
        "In this cell call the implemented function and print the result\n",
        "\"\"\"\n",
        "\n",
        "result = count_digits(matrix)\n",
        "print(result)"
      ]
    },
    {
      "attachments": {},
      "cell_type": "markdown",
      "metadata": {
        "id": "ALqhYliZ8Ie8"
      },
      "source": [
        "## Part B"
      ]
    },
    {
      "cell_type": "code",
      "execution_count": 33,
      "metadata": {
        "id": "bhTfjtO78LT1"
      },
      "outputs": [],
      "source": [
        "def find_next_cell(matrix, curr_cell, dir_ind, directions):\n",
        "  next_cell = None\n",
        "  if directions[dir_ind] == 'right':\n",
        "    new_col = curr_cell[1] + 1\n",
        "    if new_col < matrix.shape[1] and new_col > -1:\n",
        "      next_cell = (curr_cell[0], new_col)\n",
        "  elif directions[dir_ind] == 'down':\n",
        "    new_row = curr_cell[0] + 1\n",
        "    if new_row < matrix.shape[0] and new_row > -1:\n",
        "      next_cell = (new_row, curr_cell[1])\n",
        "  elif directions[dir_ind] == 'diagonal down':\n",
        "    next_row = curr_cell[0] + 1\n",
        "    next_col = curr_cell[1] - 1\n",
        "    if next_row < matrix.shape[0] and next_col < matrix.shape[1] and next_row > -1 and next_col > -1:\n",
        "      next_cell = (next_row, next_col)\n",
        "  else:\n",
        "    next_row = curr_cell[0] - 1\n",
        "    next_col = curr_cell[1] + 1\n",
        "    if next_row < matrix.shape[0] and next_col < matrix.shape[1] and next_row > -1 and next_col > -1:\n",
        "      next_cell = (next_row, next_col)\n",
        "  return next_cell\n",
        "\n",
        "\n",
        "\n",
        "\n",
        "\n",
        "def traverse_matrix(matrix):\n",
        "  \"\"\"\n",
        "  Traverse the input matrix in the given manner then print result\n",
        "\n",
        "  Arguments:\n",
        "    inputs:\n",
        "      matrix: input matrix\n",
        "    outputs\n",
        "  \"\"\"\n",
        "  directions = ['right', 'diagonal down', 'down', 'diagonal up']\n",
        "  dir_ind = 0\n",
        "  leng = matrix.size\n",
        "  curr_cell = (0,0)\n",
        "  finish = 1\n",
        "  flag = 0\n",
        "  print(matrix[curr_cell[0], curr_cell[1]], end=', ')\n",
        "  while(finish != leng):\n",
        "    next_cell = find_next_cell(matrix, curr_cell, dir_ind, directions)\n",
        "    if next_cell is not None:\n",
        "      print(matrix[next_cell[0], next_cell[1]], end=', ')\n",
        "      curr_cell = next_cell\n",
        "      finish += 1\n",
        "      if dir_ind in [0,2]:\n",
        "        dir_ind = (dir_ind + 1) % 4\n",
        "    else:\n",
        "      if curr_cell[0] == matrix.shape[0] - 1 and not flag:\n",
        "        directions[1] = 'diagonal up'\n",
        "        directions[3] = 'diagonal down'\n",
        "        dir_ind = 0\n",
        "        flag = 1\n",
        "      elif curr_cell[1] == matrix.shape[1] - 1 and not flag:\n",
        "        directions[0] = 'down'\n",
        "        directions[2] = 'right'\n",
        "        dir_ind = 0\n",
        "        flag = 1\n",
        "      else:\n",
        "        dir_ind = (dir_ind + 1) % 4\n",
        "\n",
        "\n",
        "      \n",
        "\n",
        "  "
      ]
    },
    {
      "cell_type": "code",
      "execution_count": 34,
      "metadata": {
        "id": "9Imf-wvd8oKL"
      },
      "outputs": [
        {
          "name": "stdout",
          "output_type": "stream",
          "text": [
            "[[ 82  75  93 103  38  96]\n",
            " [ 19  80  73  88  17  48]\n",
            " [ 87   6  76   6  96 100]\n",
            " [ 26  93  49  54  64  42]\n",
            " [ 10  73  70   8  69  18]\n",
            " [ 69  18 103  32  11   8]]\n",
            "82, 75, 19, 87, 80, 93, 103, 73, 6, 26, 10, 93, 76, 88, 38, 96, 17, 6, 49, 73, 69, 18, 70, 54, 96, 48, 100, 64, 8, 103, 32, 69, 42, 18, 11, 8, "
          ]
        }
      ],
      "source": [
        "print(matrix)\n",
        "traverse_matrix(matrix)\n",
        "#print output"
      ]
    }
  ],
  "metadata": {
    "colab": {
      "provenance": []
    },
    "kernelspec": {
      "display_name": "Python 3",
      "language": "python",
      "name": "python3"
    },
    "language_info": {
      "codemirror_mode": {
        "name": "ipython",
        "version": 3
      },
      "file_extension": ".py",
      "mimetype": "text/x-python",
      "name": "python",
      "nbconvert_exporter": "python",
      "pygments_lexer": "ipython3",
      "version": "3.9.0"
    },
    "vscode": {
      "interpreter": {
        "hash": "889e13973aa3ea08d9e7192c935d5c05dfbb43e6aca6ce45ac0626bfbaaff0e3"
      }
    }
  },
  "nbformat": 4,
  "nbformat_minor": 0
}
