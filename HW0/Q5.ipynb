{
  "cells": [
    {
      "cell_type": "markdown",
      "metadata": {
        "id": "lNKYy5P_DEV-"
      },
      "source": [
        "## Modifying the picture with opencv and numpy libraries"
      ]
    },
    {
      "cell_type": "code",
      "execution_count": 6,
      "metadata": {
        "id": "yexCZ1RCByIY"
      },
      "outputs": [
        {
          "ename": "ModuleNotFoundError",
          "evalue": "No module named 'google'",
          "output_type": "error",
          "traceback": [
            "\u001b[1;31m---------------------------------------------------------------------------\u001b[0m",
            "\u001b[1;31mModuleNotFoundError\u001b[0m                       Traceback (most recent call last)",
            "\u001b[1;32mC:\\Users\\SINAAL~1\\AppData\\Local\\Temp/ipykernel_13484/1510916882.py\u001b[0m in \u001b[0;36m<module>\u001b[1;34m\u001b[0m\n\u001b[0;32m      2\u001b[0m \u001b[1;32mimport\u001b[0m \u001b[0mnumpy\u001b[0m \u001b[1;32mas\u001b[0m \u001b[0mnp\u001b[0m\u001b[1;33m\u001b[0m\u001b[1;33m\u001b[0m\u001b[0m\n\u001b[0;32m      3\u001b[0m \u001b[1;32mimport\u001b[0m \u001b[0mmatplotlib\u001b[0m\u001b[1;33m.\u001b[0m\u001b[0mpyplot\u001b[0m \u001b[1;32mas\u001b[0m \u001b[0mplt\u001b[0m\u001b[1;33m\u001b[0m\u001b[1;33m\u001b[0m\u001b[0m\n\u001b[1;32m----> 4\u001b[1;33m \u001b[1;32mfrom\u001b[0m \u001b[0mgoogle\u001b[0m\u001b[1;33m.\u001b[0m\u001b[0mcolab\u001b[0m\u001b[1;33m.\u001b[0m\u001b[0mpatches\u001b[0m \u001b[1;32mimport\u001b[0m \u001b[0mcv2_imshow\u001b[0m\u001b[1;33m\u001b[0m\u001b[1;33m\u001b[0m\u001b[0m\n\u001b[0m",
            "\u001b[1;31mModuleNotFoundError\u001b[0m: No module named 'google'"
          ]
        }
      ],
      "source": [
        "import cv2\n",
        "import numpy as np\n",
        "import matplotlib.pyplot as plt\n",
        "from google.colab.patches import cv2_imshow"
      ]
    },
    {
      "cell_type": "code",
      "execution_count": 2,
      "metadata": {},
      "outputs": [
        {
          "name": "stderr",
          "output_type": "stream",
          "text": [
            "'wget' is not recognized as an internal or external command,\n",
            "operable program or batch file.\n"
          ]
        }
      ],
      "source": [
        "!wget -q https://github.com/AlexeyAB/darknet/releases/download/yolov4/yolov7.weights "
      ]
    },
    {
      "cell_type": "code",
      "execution_count": 3,
      "metadata": {},
      "outputs": [
        {
          "name": "stderr",
          "output_type": "stream",
          "text": [
            "'wget' is not recognized as an internal or external command,\n",
            "operable program or batch file.\n"
          ]
        }
      ],
      "source": [
        "!wget -q https://raw.githubusercontent.com/AlexeyAB/darknet/master/cfg/yolov7.cfg"
      ]
    },
    {
      "cell_type": "code",
      "execution_count": 4,
      "metadata": {
        "id": "0Z72Jw09-zmZ"
      },
      "outputs": [
        {
          "ename": "error",
          "evalue": "OpenCV(4.5.5) D:\\a\\opencv-python\\opencv-python\\opencv\\modules\\dnn\\src\\darknet\\darknet_importer.cpp:207: error: (-212:Parsing error) Failed to parse NetParameter file: yolov7.cfg in function 'cv::dnn::dnn4_v20211220::readNetFromDarknet'\n",
          "output_type": "error",
          "traceback": [
            "\u001b[1;31m---------------------------------------------------------------------------\u001b[0m",
            "\u001b[1;31merror\u001b[0m                                     Traceback (most recent call last)",
            "\u001b[1;32mC:\\Users\\SINAAL~1\\AppData\\Local\\Temp/ipykernel_13484/3000693077.py\u001b[0m in \u001b[0;36m<module>\u001b[1;34m\u001b[0m\n\u001b[1;32m----> 1\u001b[1;33m \u001b[0mnet\u001b[0m \u001b[1;33m=\u001b[0m \u001b[0mcv2\u001b[0m\u001b[1;33m.\u001b[0m\u001b[0mdnn\u001b[0m\u001b[1;33m.\u001b[0m\u001b[0mreadNetFromDarknet\u001b[0m\u001b[1;33m(\u001b[0m\u001b[1;34m'yolov7.cfg'\u001b[0m\u001b[1;33m,\u001b[0m \u001b[1;34m'yolov7.weights'\u001b[0m\u001b[1;33m)\u001b[0m\u001b[1;33m\u001b[0m\u001b[1;33m\u001b[0m\u001b[0m\n\u001b[0m\u001b[0;32m      2\u001b[0m \u001b[0mnet\u001b[0m\u001b[1;33m.\u001b[0m\u001b[0msetPreferableBackend\u001b[0m\u001b[1;33m(\u001b[0m\u001b[0mcv2\u001b[0m\u001b[1;33m.\u001b[0m\u001b[0mdnn\u001b[0m\u001b[1;33m.\u001b[0m\u001b[0mDNN_BACKEND_OPENCV\u001b[0m\u001b[1;33m)\u001b[0m\u001b[1;33m\u001b[0m\u001b[1;33m\u001b[0m\u001b[0m\n",
            "\u001b[1;31merror\u001b[0m: OpenCV(4.5.5) D:\\a\\opencv-python\\opencv-python\\opencv\\modules\\dnn\\src\\darknet\\darknet_importer.cpp:207: error: (-212:Parsing error) Failed to parse NetParameter file: yolov7.cfg in function 'cv::dnn::dnn4_v20211220::readNetFromDarknet'\n"
          ]
        }
      ],
      "source": [
        "net = cv2.dnn.readNetFromDarknet('yolov7.cfg', 'yolov7.weights')\n",
        "net.setPreferableBackend(cv2.dnn.DNN_BACKEND_OPENCV)"
      ]
    },
    {
      "cell_type": "code",
      "execution_count": null,
      "metadata": {
        "id": "_RCASdxi--fw"
      },
      "outputs": [],
      "source": [
        "yolo_model = cv2.dnn_DetectionModel(net)\n",
        "yolo_model.setInputParams(size=(1280, 1280), scale=1 / 255, swapRB=True)"
      ]
    },
    {
      "attachments": {},
      "cell_type": "markdown",
      "metadata": {
        "id": "xThGxCMDDUFO"
      },
      "source": [
        "**Just run the above cells without any changes**"
      ]
    },
    {
      "cell_type": "code",
      "execution_count": 5,
      "metadata": {
        "id": "CBTcXsRpKjRM"
      },
      "outputs": [
        {
          "data": {
            "text/plain": [
              "array([[[126, 147, 144],\n",
              "        [113, 136, 132],\n",
              "        [152, 175, 171],\n",
              "        ...,\n",
              "        [154, 191, 189],\n",
              "        [154, 191, 189],\n",
              "        [154, 191, 187]],\n",
              "\n",
              "       [[128, 149, 146],\n",
              "        [128, 149, 146],\n",
              "        [149, 172, 168],\n",
              "        ...,\n",
              "        [154, 191, 189],\n",
              "        [153, 190, 188],\n",
              "        [154, 191, 187]],\n",
              "\n",
              "       [[135, 156, 153],\n",
              "        [156, 177, 174],\n",
              "        [148, 171, 167],\n",
              "        ...,\n",
              "        [153, 190, 188],\n",
              "        [153, 190, 188],\n",
              "        [153, 190, 186]],\n",
              "\n",
              "       ...,\n",
              "\n",
              "       [[122, 121, 107],\n",
              "        [122, 121, 107],\n",
              "        [123, 122, 108],\n",
              "        ...,\n",
              "        [139, 142, 140],\n",
              "        [138, 141, 139],\n",
              "        [139, 142, 140]],\n",
              "\n",
              "       [[123, 122, 108],\n",
              "        [124, 123, 109],\n",
              "        [124, 123, 109],\n",
              "        ...,\n",
              "        [139, 142, 140],\n",
              "        [139, 142, 140],\n",
              "        [139, 142, 140]],\n",
              "\n",
              "       [[123, 122, 108],\n",
              "        [123, 122, 108],\n",
              "        [123, 122, 108],\n",
              "        ...,\n",
              "        [138, 141, 139],\n",
              "        [137, 140, 138],\n",
              "        [137, 140, 138]]], dtype=uint8)"
            ]
          },
          "execution_count": 5,
          "metadata": {},
          "output_type": "execute_result"
        }
      ],
      "source": [
        "\"\"\"\n",
        "Please read the provided image in RGB with opencv lib and print the matrices\n",
        "\n",
        "see bellow links:\n",
        "https://numpy.org/doc/stable/reference/generated/numpy.maximum.html\n",
        "https://numpy.org/doc/stable/reference/generated/numpy.minimum.html\n",
        "https://numpy.org/doc/stable/reference/generated/numpy.mean.html\n",
        "\"\"\"\n",
        "image = cv2.imread(\"drive/MyDrive/Q5.png\")\n"
      ]
    },
    {
      "cell_type": "code",
      "execution_count": null,
      "metadata": {},
      "outputs": [],
      "source": [
        "shape = image.shape\n",
        "typee = image.dtype\n",
        "avg_pixel_value = np.mean(image)\n",
        "max_pixel_value = np.max(image)\n",
        "min_pixel_value = np.min(image)\n",
        "mean_channel_zero = np.mean(np.mean(image, axis=0), axis=0)[0]\n",
        "max_channel_zero = np.amax(np.amax(image, axis=0), axis=0)[0]\n",
        "min_channel_zero = np.amin(np.amin(image, axis=0), axis=0)[0]\n",
        "print(f\"shape: {shape}\")\n",
        "print(f\"type: {typee}\")\n",
        "print(f\"average_pixel_value: {avg_pixel_value}\")\n",
        "print(f\"max_pixel_value: {max_pixel_value}\")\n",
        "print(f\"min_pixel_value: {min_pixel_value}\")\n",
        "print(f\"mean_channel_zero: {mean_channel_zero}\")\n",
        "print(f\"max_channel_zero: {max_channel_zero}\")\n",
        "print(f\"min_channel_zero: {min_channel_zero}\")\n"
      ]
    },
    {
      "cell_type": "code",
      "execution_count": null,
      "metadata": {
        "id": "N3xB0Rh2FRZ_"
      },
      "outputs": [],
      "source": [
        "\n",
        "#### Just run this cell \n",
        "\n",
        "\n",
        "CONFIDENCE_THRESHOLD = 0.2\n",
        "NMS_THRESHOLD = 0.4 \n",
        "\n",
        "classes, scores, boxes = yolo_model.detect(image, CONFIDENCE_THRESHOLD, NMS_THRESHOLD)\n",
        "\n",
        "detections = [(box, score) for classid, score, box in zip(classes, scores, boxes)]"
      ]
    },
    {
      "cell_type": "markdown",
      "metadata": {
        "id": "Ot4ivZb6H7r7"
      },
      "source": [
        "the result of the detection is classes of each object, \n",
        "confidence of predicting the class of that object and parameters of the bounding box\n",
        "\n",
        "for every bounding box, we have bellow information:\n",
        "\n",
        "x_min: the x coordinate of the left up corner of the bounding box\n",
        "\n",
        "y_min: the y coordinate of the left up corner of the bounding box\n",
        "\n",
        "w: the width of the bounding box\n",
        "\n",
        "h: the height of the bounding box"
      ]
    },
    {
      "cell_type": "code",
      "execution_count": null,
      "metadata": {
        "id": "GjB_FADQH7bF"
      },
      "outputs": [],
      "source": [
        "### please print the details of the detections\n",
        "print(detections)\n",
        "for i in range(len(classes)):\n",
        "  print(f\"class: {classes[i]}, confidence: {scores[i]}, position: {boxes[i]}\")\n"
      ]
    },
    {
      "cell_type": "code",
      "execution_count": null,
      "metadata": {
        "id": "OplX-80cLma3"
      },
      "outputs": [],
      "source": [
        "def visualize(frame, detections):\n",
        "  \"\"\"\n",
        "  Draw all bounding boxes on the main original image and show the result\n",
        "  Then save result with result.png name\n",
        "\n",
        "  see the bellow links:\n",
        "  https://matplotlib.org/stable/api/_as_gen/matplotlib.pyplot.imshow.html\n",
        "  https://www.geeksforgeeks.org/python-opencv-cv2-imwrite-method/\n",
        "  \"\"\"\n",
        "  generated_img = frame\n",
        "  for item in detections:\n",
        "    x, y, width, height = item[0]\n",
        "    generated_img = cv2.rectangle(generated_img, (x,y), (x+width, y+height), (0,0,0))\n",
        "  \n",
        "  return generated_img"
      ]
    },
    {
      "cell_type": "code",
      "execution_count": null,
      "metadata": {
        "id": "bPc3unKsLwaj"
      },
      "outputs": [],
      "source": [
        "new_image = visualize(image, detections)\n",
        "cv2.imwrite(\"result.png\", new_image)\n",
        "cv2_imshow(new_image)"
      ]
    },
    {
      "cell_type": "code",
      "execution_count": null,
      "metadata": {},
      "outputs": [],
      "source": [
        "# Check if file has been saved or not\n",
        "!(ls result.png && echo yes) || echo no"
      ]
    }
  ],
  "metadata": {
    "colab": {
      "provenance": []
    },
    "kernelspec": {
      "display_name": "Python 3",
      "language": "python",
      "name": "python3"
    },
    "language_info": {
      "codemirror_mode": {
        "name": "ipython",
        "version": 3
      },
      "file_extension": ".py",
      "mimetype": "text/x-python",
      "name": "python",
      "nbconvert_exporter": "python",
      "pygments_lexer": "ipython3",
      "version": "3.9.0"
    },
    "vscode": {
      "interpreter": {
        "hash": "889e13973aa3ea08d9e7192c935d5c05dfbb43e6aca6ce45ac0626bfbaaff0e3"
      }
    }
  },
  "nbformat": 4,
  "nbformat_minor": 0
}
